{
 "cells": [
  {
   "cell_type": "markdown",
   "metadata": {},
   "source": [
    "# Downloading the sitemap"
   ]
  },
  {
   "cell_type": "code",
   "execution_count": 5,
   "metadata": {},
   "outputs": [],
   "source": [
    "import requests"
   ]
  },
  {
   "cell_type": "code",
   "execution_count": 6,
   "metadata": {},
   "outputs": [],
   "source": [
    "SITEMAP_URL = 'https://www.meilleurtaux.com/sitemap/xml.html'\n",
    "# TODO: verifier le robot.txt"
   ]
  },
  {
   "cell_type": "code",
   "execution_count": 7,
   "metadata": {},
   "outputs": [],
   "source": [
    "response = requests.get(SITEMAP_URL) # TODO: Ajouter headers et timeout\n",
    "response.raise_for_status()\n"
   ]
  },
  {
   "cell_type": "code",
   "execution_count": 8,
   "metadata": {},
   "outputs": [
    {
     "data": {
      "text/plain": [
       "4010754"
      ]
     },
     "execution_count": 8,
     "metadata": {},
     "output_type": "execute_result"
    }
   ],
   "source": [
    "xml_content = response.content\n",
    "len(xml_content)"
   ]
  },
  {
   "cell_type": "markdown",
   "metadata": {},
   "source": [
    "# Parsing the xml"
   ]
  },
  {
   "cell_type": "code",
   "execution_count": 9,
   "metadata": {},
   "outputs": [],
   "source": [
    "import xml.etree.ElementTree as ET"
   ]
  },
  {
   "cell_type": "code",
   "execution_count": 10,
   "metadata": {},
   "outputs": [
    {
     "data": {
      "text/plain": [
       "<Element '{http://www.sitemaps.org/schemas/sitemap/0.9}urlset' at 0x11a515b70>"
      ]
     },
     "execution_count": 10,
     "metadata": {},
     "output_type": "execute_result"
    }
   ],
   "source": [
    "root = ET.fromstring(xml_content)\n",
    "root"
   ]
  },
  {
   "cell_type": "code",
   "execution_count": 11,
   "metadata": {},
   "outputs": [],
   "source": [
    "SITEMAP_NAMESPACE = {'sm': 'http://www.sitemaps.org/schemas/sitemap/0.9'}"
   ]
  },
  {
   "cell_type": "code",
   "execution_count": 12,
   "metadata": {},
   "outputs": [
    {
     "data": {
      "text/plain": [
       "[<Element '{http://www.sitemaps.org/schemas/sitemap/0.9}url' at 0x11a515c10>,\n",
       " <Element '{http://www.sitemaps.org/schemas/sitemap/0.9}url' at 0x11a515e40>,\n",
       " <Element '{http://www.sitemaps.org/schemas/sitemap/0.9}url' at 0x11a516020>]"
      ]
     },
     "execution_count": 12,
     "metadata": {},
     "output_type": "execute_result"
    }
   ],
   "source": [
    "url_elements = root.findall('sm:url', SITEMAP_NAMESPACE)\n",
    "url_elements[:3]"
   ]
  },
  {
   "cell_type": "code",
   "execution_count": 13,
   "metadata": {},
   "outputs": [
    {
     "data": {
      "text/plain": [
       "'https://www.meilleurtaux.com/credit-immobilier/simulation-de-pret-immobilier/prix-ventes-immo.html'"
      ]
     },
     "execution_count": 13,
     "metadata": {},
     "output_type": "execute_result"
    }
   ],
   "source": [
    "url_elements[10].find('sm:loc', SITEMAP_NAMESPACE).text"
   ]
  },
  {
   "cell_type": "code",
   "execution_count": 14,
   "metadata": {},
   "outputs": [],
   "source": [
    "urls = [\n",
    "url_elem.find('sm:loc', SITEMAP_NAMESPACE).text\n",
    "for url_elem in url_elements\n",
    "]"
   ]
  },
  {
   "cell_type": "code",
   "execution_count": 15,
   "metadata": {},
   "outputs": [
    {
     "data": {
      "text/plain": [
       "15604"
      ]
     },
     "execution_count": 15,
     "metadata": {},
     "output_type": "execute_result"
    }
   ],
   "source": [
    "len(urls)"
   ]
  },
  {
   "cell_type": "markdown",
   "metadata": {},
   "source": [
    "# subset and cleaning urls"
   ]
  },
  {
   "cell_type": "code",
   "execution_count": 16,
   "metadata": {},
   "outputs": [
    {
     "data": {
      "text/plain": [
       "['https://www.meilleurtaux.com/financement-scpi/',\n",
       " 'https://www.meilleurtaux.com/credit-immobilier/notre-analyse-des-taux.html',\n",
       " 'https://www.meilleurtaux.com/credit-immobilier/notre-analyse-des-taux/evolution-oat-tec-10-ans.html',\n",
       " 'https://www.meilleurtaux.com/credit-immobilier/notre-analyse-des-taux/evolution-taux-directeur-bce.html',\n",
       " 'https://www.meilleurtaux.com/credit-immobilier/notre-analyse-des-taux/taux-immobilier-15-ans.html']"
      ]
     },
     "execution_count": 16,
     "metadata": {},
     "output_type": "execute_result"
    }
   ],
   "source": [
    "urls[:5]"
   ]
  },
  {
   "cell_type": "code",
   "execution_count": 17,
   "metadata": {},
   "outputs": [
    {
     "data": {
      "text/plain": [
       "5107"
      ]
     },
     "execution_count": 17,
     "metadata": {},
     "output_type": "execute_result"
    }
   ],
   "source": [
    "urls_credit_immo = [url for url in urls if 'https://www.meilleurtaux.com/credit-immobilier/' in url]\n",
    "len(urls_credit_immo) # la, si on veut pas y passer la nuit, il va falloir paralleliser vu le nombre d'url"
   ]
  },
  {
   "cell_type": "code",
   "execution_count": 18,
   "metadata": {},
   "outputs": [
    {
     "data": {
      "text/plain": [
       "False"
      ]
     },
     "execution_count": 18,
     "metadata": {},
     "output_type": "execute_result"
    }
   ],
   "source": [
    "any(['?' in c for c in urls_credit_immo]) # no params :)"
   ]
  },
  {
   "cell_type": "markdown",
   "metadata": {},
   "source": [
    " pour contourner les 403 sans utiliser de proxy "
   ]
  },
  {
   "cell_type": "code",
   "execution_count": 19,
   "metadata": {},
   "outputs": [
    {
     "name": "stdout",
     "output_type": "stream",
     "text": [
      "Exemple de headers générés aléatoirement :\n",
      "\n",
      "User-Agent: Mozilla/5.0 (X11; Ubuntu; Linux i686; rv:122.0) Gecko/20100101 Firefox/122.0\n",
      "Accept: text/html,application/xhtml+xml,application/xml;q=0.9,image/avif,image/webp,image/apng,*/*;q=0.8,application/signed-exchange;v=b3;q=0.7\n",
      "Accept-Language: fr-FR,fr;q=0.9,en-US;q=0.8,en;q=0.7\n",
      "Accept-Encoding: gzip, deflate, br\n",
      "Connection: keep-alive\n",
      "DNT: 1\n",
      "Upgrade-Insecure-Requests: 1\n",
      "Sec-Fetch-Dest: document\n",
      "Sec-Fetch-Mode: navigate\n",
      "Sec-Fetch-Site: none\n",
      "Sec-Fetch-User: ?1\n"
     ]
    }
   ],
   "source": [
    "import random\n",
    "import logging # Ajouté pour info si besoin\n",
    "\n",
    "USER_AGENTS = [\n",
    "\n",
    "    # --- Chrome ---\n",
    "    # Windows\n",
    "    'Mozilla/5.0 (Windows NT 10.0; Win64; x64) AppleWebKit/537.36 (KHTML, like Gecko) Chrome/123.0.0.0 Safari/537.36',\n",
    "    'Mozilla/5.0 (Windows NT 10.0; WOW64) AppleWebKit/537.36 (KHTML, like Gecko) Chrome/122.0.0.0 Safari/537.36',\n",
    "    'Mozilla/5.0 (Windows NT 11.0; Win64; x64) AppleWebKit/537.36 (KHTML, like Gecko) Chrome/123.0.0.0 Safari/537.36', # Win 11\n",
    "    # macOS\n",
    "    'Mozilla/5.0 (Macintosh; Intel Mac OS X 10_15_7) AppleWebKit/537.36 (KHTML, like Gecko) Chrome/123.0.0.0 Safari/537.36',\n",
    "    'Mozilla/5.0 (Macintosh; Intel Mac OS X 11_7_10) AppleWebKit/537.36 (KHTML, like Gecko) Chrome/122.0.0.0 Safari/537.36', # macOS 11 Big Sur\n",
    "    # Linux\n",
    "    'Mozilla/5.0 (X11; Linux x86_64) AppleWebKit/537.36 (KHTML, like Gecko) Chrome/123.0.0.0 Safari/537.36',\n",
    "    'Mozilla/5.0 (X11; Ubuntu; Linux x86_64; rv:115.0) AppleWebKit/537.36 (KHTML, like Gecko) Chrome/122.0.0.0 Safari/537.36', # Chrome on Ubuntu\n",
    "\n",
    "    # --- Firefox ---\n",
    "    # Windows\n",
    "    'Mozilla/5.0 (Windows NT 10.0; Win64; x64; rv:124.0) Gecko/20100101 Firefox/124.0',\n",
    "    'Mozilla/5.0 (Windows NT 11.0; Win64; x64; rv:123.0) Gecko/20100101 Firefox/123.0', # Win 11\n",
    "    # macOS\n",
    "    'Mozilla/5.0 (Macintosh; Intel Mac OS X 10.15; rv:124.0) Gecko/20100101 Firefox/124.0',\n",
    "    # Linux\n",
    "    'Mozilla/5.0 (X11; Linux x86_64; rv:123.0) Gecko/20100101 Firefox/123.0',\n",
    "    'Mozilla/5.0 (X11; Ubuntu; Linux i686; rv:122.0) Gecko/20100101 Firefox/122.0', # Firefox 32bit on Ubuntu\n",
    "\n",
    "    # --- Edge ---\n",
    "    # Windows\n",
    "    'Mozilla/5.0 (Windows NT 10.0; Win64; x64) AppleWebKit/537.36 (KHTML, like Gecko) Chrome/123.0.0.0 Safari/537.36 Edg/123.0.2420.65',\n",
    "    'Mozilla/5.0 (Windows NT 11.0; Win64; x64) AppleWebKit/537.36 (KHTML, like Gecko) Chrome/122.0.0.0 Safari/537.36 Edg/122.0.2365.80', # Win 11\n",
    "    # macOS\n",
    "    'Mozilla/5.0 (Macintosh; Intel Mac OS X 10_15_7) AppleWebKit/537.36 (KHTML, like Gecko) Chrome/123.0.0.0 Safari/537.36 Edg/123.0.2420.65',\n",
    "\n",
    "    # --- Safari ---\n",
    "    'Mozilla/5.0 (Macintosh; Intel Mac OS X 10_15_7) AppleWebKit/605.1.15 (KHTML, like Gecko) Version/17.3.1 Safari/605.1.15', # macOS Monterey/Ventura/Sonoma often have similar Safari versions\n",
    "    'Mozilla/5.0 (Macintosh; Intel Mac OS X 13_6_3) AppleWebKit/605.1.15 (KHTML, like Gecko) Version/17.3.1 Safari/605.1.15', # Ventura\n",
    "    'Mozilla/5.0 (Macintosh; Intel Mac OS X 14_3_1) AppleWebKit/605.1.15 (KHTML, like Gecko) Version/17.3.1 Safari/605.1.15', # Sonoma\n",
    "\n",
    "]\n",
    "\n",
    "def get_random_headers():\n",
    "    \"\"\"Génère un dictionnaire de headers HTTP réalistes et variés.\"\"\"\n",
    "\n",
    "    # 1. Choisir un User-Agent au hasard\n",
    "    user_agent = random.choice(USER_AGENTS)\n",
    "\n",
    "    # 2. Initialiser les headers de base\n",
    "    headers = {\n",
    "        'User-Agent': user_agent,\n",
    "        'Accept': 'text/html,application/xhtml+xml,application/xml;q=0.9,image/avif,image/webp,image/apng,*/*;q=0.8,application/signed-exchange;v=b3;q=0.7',\n",
    "        'Accept-Language': 'fr-FR,fr;q=0.9,en-US;q=0.8,en;q=0.7',\n",
    "        'Accept-Encoding': 'gzip, deflate, br',\n",
    "        'Connection': 'keep-alive',\n",
    "        'DNT': '1',\n",
    "        'Upgrade-Insecure-Requests': '1',\n",
    "    }\n",
    "\n",
    "    # 3. Ajouter des headers \"Sec-\" (sécurité/contexte de la requête) - courants dans les navigateurs modernes\n",
    "    headers['Sec-Fetch-Dest'] = 'document'\n",
    "    headers['Sec-Fetch-Mode'] = 'navigate'\n",
    "    headers['Sec-Fetch-Site'] = 'none'\n",
    "    headers['Sec-Fetch-User'] = '?1'\n",
    "\n",
    "    # 4. Ajouter des headers \"Sec-CH-UA\" (Client Hints - spécifiques aux navigateurs basés sur Chromium comme Chrome, Edge)\n",
    "    if 'Chrome' in user_agent or 'Edg' in user_agent:\n",
    "        # Extraire la version majeure (simpliste, peut échouer sur certains formats)\n",
    "        major_version = \"123\" # Version par défaut si extraction échoue\n",
    "        try:\n",
    "            if 'Chrome/' in user_agent and 'Edg/' not in user_agent:\n",
    "                major_version = user_agent.split('Chrome/')[1].split('.')[0]\n",
    "            elif 'Edg/' in user_agent:\n",
    "                 major_version = user_agent.split('Edg/')[1].split('.')[0]\n",
    "        except:\n",
    "             pass # Garder la version par défaut\n",
    "\n",
    "        # Construire un header Sec-CH-UA plausible\n",
    "        if 'Edg/' in user_agent: # Cas Edge\n",
    "             headers['Sec-CH-UA'] = f'\"Microsoft Edge\";v=\"{major_version}\", \"Not(A:Brand\";v=\"99\", \"Chromium\";v=\"{major_version}\"'\n",
    "        else: # Cas Chrome (ou autre basé sur Chromium sans être Edge)\n",
    "             headers['Sec-CH-UA'] = f'\"Google Chrome\";v=\"{major_version}\", \"Not(A:Brand\";v=\"99\", \"Chromium\";v=\"{major_version}\"'\n",
    "\n",
    "        # Ajouter Sec-CH-UA-Mobile basé sur la présence de \"Mobile\" dans l'UA\n",
    "        headers['Sec-CH-UA-Mobile'] = '?1' if 'Mobile' in user_agent else '?0'\n",
    "\n",
    "        # Ajouter Sec-CH-UA-Platform basé sur l'OS détecté dans l'UA (simplifié)\n",
    "        if 'Windows' in user_agent:\n",
    "            headers['Sec-CH-UA-Platform'] = '\"Windows\"'\n",
    "        elif 'Macintosh' in user_agent or 'Mac OS X' in user_agent:\n",
    "             headers['Sec-CH-UA-Platform'] = '\"macOS\"'\n",
    "\n",
    "    return headers\n",
    "\n",
    "\n",
    "print(\"Exemple de headers générés aléatoirement :\\n\")\n",
    "random_headers_example = get_random_headers()\n",
    "for key, value in random_headers_example.items():\n",
    "    print(f\"{key}: {value}\")\n",
    "\n",
    "    # Utilisation dans une requête (simulée) :\n",
    "    # try:\n",
    "    #     url_to_check = \"https://www.meilleurtaux.com/credit-immobilier/\" # Exemple d'URL\n",
    "    #     request_headers = get_random_headers()\n",
    "    #     print(f\"\\nHeaders envoyés pour {url_to_check} :\\n{request_headers}\")\n",
    "    #     # response = requests.head(url_to_check, headers=request_headers, timeout=15, allow_redirects=True)\n",
    "    #     # print(f\"\\nStatus Code reçu : {response.status_code}\")\n",
    "    #     # print(f\"URL Finale : {response.url}\")\n",
    "    # except Exception as e:\n",
    "    #     print(f\"\\nErreur lors de la requête : {e}\")"
   ]
  },
  {
   "cell_type": "code",
   "execution_count": null,
   "metadata": {},
   "outputs": [
    {
     "name": "stdout",
     "output_type": "stream",
     "text": [
      "Progression : 100/5107 URLs vérifiées...\n"
     ]
    }
   ],
   "source": [
    "import concurrent.futures \n",
    "import time\n",
    "import random\n",
    "\n",
    "MAX_WORKERS = 5 \n",
    "DELAY_PER_REQUEST = 0.5\n",
    "\n",
    "def check_url(url):\n",
    "\n",
    "    random_delay = random.uniform(DELAY_PER_REQUEST, DELAY_PER_REQUEST + 0.5)\n",
    "    time.sleep(random_delay)\n",
    "    request_headers = get_random_headers()\n",
    "    response = requests.head(url, headers=request_headers, timeout=15, allow_redirects=True)\n",
    "    #response = requests.head(url, timeout=10, allow_redirects=True)\n",
    "    return {\n",
    "        'status': response.status_code,\n",
    "        'original_url': url,\n",
    "        'final_url': response.url # au cas ou il y aurait des redicrection\n",
    "    }\n",
    "\n",
    "urls_valides = []\n",
    "\n",
    "with concurrent.futures.ThreadPoolExecutor(max_workers=MAX_WORKERS) as executor:\n",
    "\n",
    "    future_to_url = {executor.submit(check_url, url): url for url in urls_credit_immo}\n",
    "\n",
    "    processed_count = 0\n",
    "    total_urls = len(urls_credit_immo)\n",
    "\n",
    "    for future in concurrent.futures.as_completed(future_to_url):\n",
    "        url_result = future.result()\n",
    "        processed_count += 1\n",
    "        status = url_result['status']\n",
    "        original_url = url_result['original_url']\n",
    "        final_url = url_result['final_url']\n",
    "\n",
    "        if status == 200:\n",
    "            if original_url != final_url: # au cas ou il y ai de redirection\n",
    "                 print(f\"URL {original_url} redirect vers {final_url}\")\n",
    "            urls_valides.append(final_url)\n",
    "        else:\n",
    "            print(f\"URL {original_url} PROBLEM !! ({status})\")\n",
    "\n",
    "        if processed_count % 100 == 0 or processed_count == total_urls:\n",
    "             print(f\"Progression : {processed_count}/{total_urls} URLs vérifiées...\")\n",
    "\n",
    "print(len(urls_valides), 'urls validés')"
   ]
  },
  {
   "cell_type": "code",
   "execution_count": null,
   "metadata": {},
   "outputs": [],
   "source": []
  }
 ],
 "metadata": {
  "kernelspec": {
   "display_name": ".venv",
   "language": "python",
   "name": "python3"
  },
  "language_info": {
   "codemirror_mode": {
    "name": "ipython",
    "version": 3
   },
   "file_extension": ".py",
   "mimetype": "text/x-python",
   "name": "python",
   "nbconvert_exporter": "python",
   "pygments_lexer": "ipython3",
   "version": "3.11.9"
  }
 },
 "nbformat": 4,
 "nbformat_minor": 2
}
